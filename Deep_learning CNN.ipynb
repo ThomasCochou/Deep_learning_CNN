{
  "nbformat": 4,
  "nbformat_minor": 0,
  "metadata": {
    "colab": {
      "name": "Deep learning.ipynb",
      "provenance": [],
      "collapsed_sections": [],
      "toc_visible": true
    },
    "kernelspec": {
      "name": "python3",
      "display_name": "Python 3"
    },
    "accelerator": "GPU"
  },
  "cells": [
    {
      "cell_type": "markdown",
      "metadata": {
        "id": "3wF5wszaj97Y"
      },
      "source": [
        "# TensorFlow 2 & Keras quickstart for beginners with MNIST"
      ]
    },
    {
      "cell_type": "markdown",
      "metadata": {
        "id": "6OIjpi_I4ASd"
      },
      "source": [
        "Thomas Cochou"
      ]
    },
    {
      "cell_type": "markdown",
      "metadata": {
        "id": "04QgGZc9bF5D"
      },
      "source": [
        "This  introduction uses [Keras](https://www.tensorflow.org/guide/keras/overview) to:\n",
        "\n",
        "1. Build a neural network that classifies images.\n",
        "2. Train this neural network.\n",
        "3. Evaluate the accuracy of the model.\n",
        "4. Analyse the detail of the predictions\n",
        "5. Test alternative models (convolution)\n",
        "\n",
        "It is based on François Chollet [tutorials](https://github.com/fchollet/deep-learning-with-python-notebooks)."
      ]
    },
    {
      "cell_type": "markdown",
      "metadata": {
        "id": "nnrWf3PCEzXL"
      },
      "source": [
        "Download and install the TensorFlow 2 package. Import TensorFlow into your program:"
      ]
    },
    {
      "cell_type": "code",
      "metadata": {
        "id": "0trJmd6DjqBZ",
        "colab": {
          "base_uri": "https://localhost:8080/"
        },
        "outputId": "50619f9b-1b36-4bbe-ad7a-3168d6b88f16"
      },
      "source": [
        "try:\n",
        "  # %tensorflow_version only exists in Colab.\n",
        "  %tensorflow_version 2.x\n",
        "except Exception:\n",
        "  pass\n",
        "\n",
        "\n",
        "from __future__ import absolute_import, division, print_function, unicode_literals\n",
        "\n",
        "# TensorFlow and tf.keras\n",
        "import tensorflow as tf\n",
        "\n",
        "#from tensorflow.keras import layers\n",
        "from tensorflow.keras.layers import Dense, Flatten, Conv2D\n",
        "from tensorflow.keras import Model\n",
        "\n",
        "\n",
        "# Helper libraries\n",
        "import numpy as np\n",
        "import matplotlib.pyplot as plt\n",
        "\n",
        "print(tf.__version__)"
      ],
      "execution_count": null,
      "outputs": [
        {
          "output_type": "stream",
          "name": "stdout",
          "text": [
            "2.6.0\n"
          ]
        }
      ]
    },
    {
      "cell_type": "markdown",
      "metadata": {
        "id": "7NAbSZiaoJ4z"
      },
      "source": [
        "Load and prepare the [MNIST dataset](http://yann.lecun.com/exdb/mnist/). \n",
        "Convert the samples from integers to floating-point numbers:"
      ]
    },
    {
      "cell_type": "code",
      "metadata": {
        "id": "7FP5258xjs-v"
      },
      "source": [
        "mnist = tf.keras.datasets.mnist\n",
        "\n",
        "(x_train, y_train), (x_test, y_test) = mnist.load_data()\n",
        "x_train, x_test = x_train / 255.0, x_test / 255.0"
      ],
      "execution_count": null,
      "outputs": []
    },
    {
      "cell_type": "code",
      "metadata": {
        "id": "FFsk1fenMUe9",
        "colab": {
          "base_uri": "https://localhost:8080/"
        },
        "outputId": "681c0e07-7222-48b5-953d-d54f887360a8"
      },
      "source": [
        "x_train.shape"
      ],
      "execution_count": null,
      "outputs": [
        {
          "output_type": "execute_result",
          "data": {
            "text/plain": [
              "(60000, 28, 28)"
            ]
          },
          "metadata": {},
          "execution_count": 96
        }
      ]
    },
    {
      "cell_type": "code",
      "metadata": {
        "id": "vzfn_6OZNm5T",
        "colab": {
          "base_uri": "https://localhost:8080/",
          "height": 589
        },
        "outputId": "30a79876-b2a9-4276-e637-f11ad65a96c9"
      },
      "source": [
        "#plot the 25 first image of the train data\n",
        "plt.figure(figsize=(10,10))\n",
        "for i in range(25):\n",
        "    plt.subplot(5,5,i+1)\n",
        "    plt.xticks([])\n",
        "    plt.yticks([])\n",
        "    plt.grid(False)\n",
        "    plt.imshow(x_train[i], cmap=plt.cm.binary)\n",
        "    plt.xlabel(y_train[i])\n",
        "plt.show()\n"
      ],
      "execution_count": null,
      "outputs": [
        {
          "output_type": "display_data",
          "data": {
            "image/png": "[encoded data removed]",
            "text/plain": [
              "<Figure size 720x720 with 25 Axes>"
            ]
          },
          "metadata": {}
        }
      ]
    },
    {
      "cell_type": "markdown",
      "metadata": {
        "id": "ddkb0TZ5KLbY"
      },
      "source": [
        "---\n",
        "#Questions:\n",
        "\n",
        "* What is MNIST ? \n",
        "\n",
        "La base de données MNIST pour Modified ou Mixed National Institute of Standards and Technology, est une base de données de chiffres écrits à la main.\n",
        "\n",
        "* What is contained in `x_train`, `y_train`, `x_test`, and `y_test`?\n",
        "\n",
        "Les données train correspondent aux données d'entrainnements et les données test sont pour le test. \n",
        "\n",
        "x correspond aux 60000 images en entrée de 28x28 pixels.\n",
        "\n",
        "y correspond à chaque possibilité de sortie donc un chiffre de 0 à 9.\n",
        "\n",
        "* What is the size of these tensors?\n",
        "\n",
        "La taille du tenseur est de 60000x28x28.\n",
        "\n",
        "* Why is it necessary to divide `x_train` and `x_test` by 255?\n",
        "\n",
        "RGB (Red, Green, Blue) are 8 bit each.\n",
        "\n",
        "The range for each individual colour is 0-255 (as 2^8 = 256 possibilities).\n",
        "\n",
        "By dividing by 255, the 0-255 range can be described with a 0.0-1.0 range where 0.0 means 0 (0x00) and 1.0 means 255 (0xFF).\n",
        "\n",
        "---"
      ]
    },
    {
      "cell_type": "markdown",
      "metadata": {
        "id": "BPZ68wASog_I"
      },
      "source": [
        "Build the `tf.keras.Sequential` model by stacking layers. Choose an optimizer and loss function for training:"
      ]
    },
    {
      "cell_type": "code",
      "metadata": {
        "id": "h3IKyzTCDNGo"
      },
      "source": [
        "model1 = tf.keras.models.Sequential([\n",
        "  tf.keras.layers.Flatten(input_shape=(28, 28)),\n",
        "  tf.keras.layers.Dense(128, activation='relu'),\n",
        "  tf.keras.layers.Dense(10, activation='softmax')\n",
        "])\n",
        "\n",
        "model1.compile(optimizer='adam',\n",
        "              loss='sparse_categorical_crossentropy',\n",
        "              metrics=['accuracy'])"
      ],
      "execution_count": null,
      "outputs": []
    },
    {
      "cell_type": "code",
      "metadata": {
        "id": "nMqxTZkN7JuL",
        "colab": {
          "base_uri": "https://localhost:8080/"
        },
        "outputId": "4cb75917-bed1-4037-d5d1-1fb91da06868"
      },
      "source": [
        "model1.summary()"
      ],
      "execution_count": null,
      "outputs": [
        {
          "output_type": "stream",
          "name": "stdout",
          "text": [
            "Model: \"sequential_10\"\n",
            "_________________________________________________________________\n",
            "Layer (type)                 Output Shape              Param #   \n",
            "=================================================================\n",
            "flatten_10 (Flatten)         (None, 784)               0         \n",
            "_________________________________________________________________\n",
            "dense_20 (Dense)             (None, 128)               100480    \n",
            "_________________________________________________________________\n",
            "dense_21 (Dense)             (None, 10)                1290      \n",
            "=================================================================\n",
            "Total params: 101,770\n",
            "Trainable params: 101,770\n",
            "Non-trainable params: 0\n",
            "_________________________________________________________________\n"
          ]
        }
      ]
    },
    {
      "cell_type": "markdown",
      "metadata": {
        "id": "Z3ZNPoV8LnwH"
      },
      "source": [
        "---\n",
        "#Questions\n",
        "* Explain what are `layers.Flatten` and `layers.Dense` used for?\n",
        "\n",
        "`layer.Flatten` correspond à la couche d'entrée, elle transforme la matrice de pixels d'entrée en une liste de tous les pixels.\n",
        "\n",
        "`layers.Dense` correspond à une couche (de n neurones ici 128 et 10) interconnecté avec tout les autres neurones des couches voisines. Chaque couche `Dense` est associée à une fonction d'activation.\n",
        "\n",
        "* Why the last activation function has to be a softmax?\n",
        "\n",
        "Softmax donne la probabilité pour chaque entrée de faire partie d'une classe ou d'une autre.\n",
        "\n",
        "* How is calculated the number of parameter? \n",
        "\n",
        "First layer * Second layer + Second layer biases = Second layer parameters\n",
        "\n",
        "784 * 128 + 128 = 100480\n",
        "\n",
        "Second layer * Third layer + Third layer biases = Third layer parameters\n",
        "\n",
        "128 * 10 + 10 = 1290\n",
        "\n",
        "Second layer parameters + Third layer parameters = Number of parameters\n",
        "\n",
        "100480 + 1290 = 101770\n",
        "\n",
        "\n",
        "---"
      ]
    },
    {
      "cell_type": "markdown",
      "metadata": {
        "id": "ix4mEL65on-w"
      },
      "source": [
        "Train and evaluate the model:"
      ]
    },
    {
      "cell_type": "code",
      "metadata": {
        "id": "F7dTAzgHDUh7",
        "colab": {
          "base_uri": "https://localhost:8080/"
        },
        "outputId": "5dd37911-7259-4c5d-e8b8-e0e440cadb66"
      },
      "source": [
        "model1.fit(x_train, y_train, epochs=5)\n",
        "\n",
        "model1.evaluate(x_test,  y_test, verbose=2)"
      ],
      "execution_count": null,
      "outputs": [
        {
          "output_type": "stream",
          "name": "stdout",
          "text": [
            "Epoch 1/5\n",
            "1875/1875 [==============================] - 5s 3ms/step - loss: 0.2535 - accuracy: 0.9276\n",
            "Epoch 2/5\n",
            "1875/1875 [==============================] - 5s 2ms/step - loss: 0.1140 - accuracy: 0.9666\n",
            "Epoch 3/5\n",
            "1875/1875 [==============================] - 5s 2ms/step - loss: 0.0783 - accuracy: 0.9767\n",
            "Epoch 4/5\n",
            "1875/1875 [==============================] - 4s 2ms/step - loss: 0.0604 - accuracy: 0.9814\n",
            "Epoch 5/5\n",
            "1875/1875 [==============================] - 4s 2ms/step - loss: 0.0450 - accuracy: 0.9856\n",
            "313/313 - 1s - loss: 0.0743 - accuracy: 0.9767\n"
          ]
        },
        {
          "output_type": "execute_result",
          "data": {
            "text/plain": [
              "[0.0743367150425911, 0.9767000079154968]"
            ]
          },
          "metadata": {},
          "execution_count": 100
        }
      ]
    },
    {
      "cell_type": "markdown",
      "metadata": {
        "id": "T4JfEh7kvx6m"
      },
      "source": [
        "---\n",
        "#Question\n",
        "* What is the difference between the accuracy written after each Epoch and the accuracy written at the end? \n",
        "\n",
        "L'Accuracy écrite à la fin correspond au calcul sur les données de test, alors que à chaque époque le calcul est réalisé sur les données d'entrainnement.\n",
        "\n",
        "---"
      ]
    },
    {
      "cell_type": "markdown",
      "metadata": {
        "id": "vVvfopXZPiR7"
      },
      "source": [
        "Compute the predictions based on the trained model"
      ]
    },
    {
      "cell_type": "code",
      "metadata": {
        "id": "1UUR-Y1aQ0Pi"
      },
      "source": [
        "predictions = model1.predict(x_test)"
      ],
      "execution_count": null,
      "outputs": []
    },
    {
      "cell_type": "code",
      "metadata": {
        "id": "DjTK-nveQ58I",
        "colab": {
          "base_uri": "https://localhost:8080/"
        },
        "outputId": "89f134fe-9caf-446e-9af3-a6d35b88d842"
      },
      "source": [
        "predictions[0]\n",
        "predictions[1]\n",
        "predictions[2]\n"
      ],
      "execution_count": null,
      "outputs": [
        {
          "output_type": "execute_result",
          "data": {
            "text/plain": [
              "array([7.67950269e-07, 9.99122441e-01, 1.54927242e-04, 1.29073715e-05,\n",
              "       2.55888135e-05, 9.80048935e-05, 1.21993553e-05, 2.59483757e-04,\n",
              "       3.13158962e-04, 5.22059963e-07], dtype=float32)"
            ]
          },
          "metadata": {},
          "execution_count": 102
        }
      ]
    },
    {
      "cell_type": "code",
      "metadata": {
        "id": "BVrWQDmWQ8Hn",
        "colab": {
          "base_uri": "https://localhost:8080/"
        },
        "outputId": "2e7fb2f7-9b02-428f-8558-5b79865710db"
      },
      "source": [
        "np.argmax(predictions[0])\n",
        "np.argmax(predictions[1])\n",
        "np.argmax(predictions[2])"
      ],
      "execution_count": null,
      "outputs": [
        {
          "output_type": "execute_result",
          "data": {
            "text/plain": [
              "1"
            ]
          },
          "metadata": {},
          "execution_count": 103
        }
      ]
    },
    {
      "cell_type": "code",
      "metadata": {
        "id": "QAW5PLNiRET_",
        "colab": {
          "base_uri": "https://localhost:8080/",
          "height": 269
        },
        "outputId": "b069a40c-a7b6-4f1d-d4b0-5205462a6bee"
      },
      "source": [
        "plt.figure()\n",
        "plt.imshow(x_test[0])\n",
        "plt.colorbar()\n",
        "plt.grid(False)\n",
        "plt.show()\n"
      ],
      "execution_count": null,
      "outputs": [
        {
          "output_type": "display_data",
          "data": {
            "image/png": "[encoded data removed]",
            "text/plain": [
              "<Figure size 432x288 with 2 Axes>"
            ]
          },
          "metadata": {
            "needs_background": "light"
          }
        }
      ]
    },
    {
      "cell_type": "markdown",
      "metadata": {
        "id": "QG5RtrSDQKyU"
      },
      "source": [
        "---\n",
        "#Questions\n",
        "* What is contained in `predictions[0]`?\n",
        "\n",
        "La probabilité de que la première (n = 0) entrée ait d'appartennir à chaque classe de sortie (0, 1, 2, etc...)\n",
        "\n",
        "* Check `predictions[1]` and `predictions[2]`\n",
        "---"
      ]
    },
    {
      "cell_type": "markdown",
      "metadata": {
        "id": "UOrfz63KQvl9"
      },
      "source": [
        "We create two plotting functions, have a look and try to understand what they will be used for: "
      ]
    },
    {
      "cell_type": "code",
      "metadata": {
        "id": "9r9Ao6m8SFMd"
      },
      "source": [
        "#plotting functions\n",
        "#if the classification is correct, the caption will be blue, otherwise it'll be red\n",
        "class_names = ['N0', 'N1', 'N2', 'N3', 'N4', 'N5', 'N6', 'N7', 'N8', 'N9']\n",
        "\n",
        "\n",
        "def plot_image(i, predictions_array, true_label, img):\n",
        "  predictions_array, true_label, img = predictions_array, true_label[i], img[i]\n",
        "  plt.grid(False)\n",
        "  plt.xticks([])\n",
        "  plt.yticks([])\n",
        "\n",
        "  plt.imshow(img, cmap=plt.cm.binary)\n",
        "\n",
        "  predicted_label = np.argmax(predictions_array)\n",
        "  if predicted_label == true_label:\n",
        "    color = 'blue'\n",
        "  else:\n",
        "    color = 'red'\n",
        "\n",
        "  plt.xlabel(\"{} {:2.0f}% (True: {})\".format(class_names[predicted_label],\n",
        "                                100*np.max(predictions_array),\n",
        "                                class_names[true_label]),\n",
        "                                color=color)\n",
        "\n",
        "def plot_value_array(i, predictions_array, true_label):\n",
        "  predictions_array, true_label = predictions_array, true_label[i]\n",
        "  plt.grid(False)\n",
        "  plt.xticks(range(10))\n",
        "  plt.yticks([])\n",
        "  thisplot = plt.bar(range(10), predictions_array, color=\"#777777\")\n",
        "  plt.ylim([0, 1])\n",
        "  predicted_label = np.argmax(predictions_array)\n",
        "\n",
        "  thisplot[predicted_label].set_color('red')\n",
        "  thisplot[true_label].set_color('blue')\n"
      ],
      "execution_count": null,
      "outputs": []
    },
    {
      "cell_type": "code",
      "metadata": {
        "id": "A3ORmj8DSJRe",
        "colab": {
          "base_uri": "https://localhost:8080/",
          "height": 211
        },
        "outputId": "a4e84cb8-9bd3-4dbe-aaaf-5ede34a92590"
      },
      "source": [
        "#plot the image 0 with the probability for each class\n",
        "i = 0\n",
        "plt.figure(figsize=(6,3))\n",
        "plt.subplot(1,2,1)\n",
        "plot_image(i, predictions[i], y_test, x_test)\n",
        "plt.subplot(1,2,2)\n",
        "plot_value_array(i, predictions[i],  y_test)\n",
        "plt.show()"
      ],
      "execution_count": null,
      "outputs": [
        {
          "output_type": "display_data",
          "data": {
            "image/png": "[encoded data removed]",
            "text/plain": [
              "<Figure size 432x216 with 2 Axes>"
            ]
          },
          "metadata": {
            "needs_background": "light"
          }
        }
      ]
    },
    {
      "cell_type": "markdown",
      "metadata": {
        "id": "MiIS5SNATWjz"
      },
      "source": [
        "Now we will get the max probability for each prediction and sort them from the lowest to the highest in order to observe the images that have the lowest probabilities. "
      ]
    },
    {
      "cell_type": "code",
      "metadata": {
        "id": "w6FQcYS2NGrI",
        "colab": {
          "base_uri": "https://localhost:8080/"
        },
        "outputId": "bd49216a-cc39-4f6d-fb2b-f92c42d4983e"
      },
      "source": [
        "#select only the max probability for each prediction \n",
        "probs = np.amax(predictions, axis=1)\n",
        "probs[0]"
      ],
      "execution_count": null,
      "outputs": [
        {
          "output_type": "execute_result",
          "data": {
            "text/plain": [
              "0.9963445"
            ]
          },
          "metadata": {},
          "execution_count": 107
        }
      ]
    },
    {
      "cell_type": "code",
      "metadata": {
        "id": "MaZP92ZgRax4"
      },
      "source": [
        "#creat a list of indexes corresponding to the prediction sorted from the lowest to the highest \n",
        "indexes = list(range(len(probs)))\n",
        "indexes.sort(key=probs.__getitem__)"
      ],
      "execution_count": null,
      "outputs": []
    },
    {
      "cell_type": "code",
      "metadata": {
        "id": "Ny8Tq397RGwH",
        "colab": {
          "base_uri": "https://localhost:8080/"
        },
        "outputId": "7d9e0487-d52e-431b-f8e6-ac808eab29b1"
      },
      "source": [
        "#print the index of the lowest propability\n",
        "indexes[0]"
      ],
      "execution_count": null,
      "outputs": [
        {
          "output_type": "execute_result",
          "data": {
            "text/plain": [
              "6625"
            ]
          },
          "metadata": {},
          "execution_count": 109
        }
      ]
    },
    {
      "cell_type": "code",
      "metadata": {
        "id": "B889lrQuI973",
        "colab": {
          "base_uri": "https://localhost:8080/",
          "height": 211
        },
        "outputId": "0944c53e-5b0c-4f81-dc9b-fd3f425a62a6"
      },
      "source": [
        "#plot the image of the test image which has the lowest probability \n",
        "i = indexes[0]\n",
        "plt.figure(figsize=(6,3))\n",
        "plt.subplot(1,2,1)\n",
        "plot_image(i, predictions[i], y_test, x_test)\n",
        "plt.subplot(1,2,2)\n",
        "plot_value_array(i, predictions[i],  y_test)\n",
        "plt.show()"
      ],
      "execution_count": null,
      "outputs": [
        {
          "output_type": "display_data",
          "data": {
            "image/png": "[encoded data removed]",
            "text/plain": [
              "<Figure size 432x216 with 2 Axes>"
            ]
          },
          "metadata": {
            "needs_background": "light"
          }
        }
      ]
    },
    {
      "cell_type": "code",
      "metadata": {
        "id": "AXd8d59DWA4s",
        "colab": {
          "base_uri": "https://localhost:8080/",
          "height": 729
        },
        "outputId": "cb4a68c5-8bbd-45c2-9f09-a0181246577a"
      },
      "source": [
        "#plot the 15 images with the lowest probability\n",
        "num_rows = 5\n",
        "num_cols = 3\n",
        "num_images = num_rows*num_cols\n",
        "plt.figure(figsize=(2*2*num_cols, 2*num_rows))\n",
        "for j in range(num_images):\n",
        "  i = indexes[j]\n",
        "  plt.subplot(num_rows, 2*num_cols, 2*j+1)\n",
        "  plot_image(i, predictions[i], y_test, x_test)\n",
        "  plt.subplot(num_rows, 2*num_cols, 2*j+2)\n",
        "  plot_value_array(i, predictions[i], y_test)\n",
        "plt.tight_layout()\n",
        "plt.show()\n"
      ],
      "execution_count": null,
      "outputs": [
        {
          "output_type": "display_data",
          "data": {
            "image/png": "[encoded data removed]",
            "text/plain": [
              "<Figure size 864x720 with 30 Axes>"
            ]
          },
          "metadata": {
            "needs_background": "light"
          }
        }
      ]
    },
    {
      "cell_type": "markdown",
      "metadata": {
        "id": "RMlcpBdERrA7"
      },
      "source": [
        "---\n",
        "#Question\n",
        "* What do you observe ?\n",
        "\n",
        "L'algorithme hésite entre différentes valeurs selon leurs probabilités et sélectionne la sortie la plus probable. Cependant certaines sortie ont une probabilité très proche, ce n'est donc pas toujours correct.\n",
        "\n",
        "---"
      ]
    },
    {
      "cell_type": "code",
      "metadata": {
        "id": "VOfJ_Oi0R9du",
        "colab": {
          "base_uri": "https://localhost:8080/"
        },
        "outputId": "a632b7b6-56ec-41e2-e362-75d15ea4af7d"
      },
      "source": [
        "# count the number of mistakes\n",
        "decision =  np.argmax(predictions,axis=1)\n",
        "verif = decision == y_test\n",
        "10000-sum(verif)"
      ],
      "execution_count": null,
      "outputs": [
        {
          "output_type": "execute_result",
          "data": {
            "text/plain": [
              "233"
            ]
          },
          "metadata": {},
          "execution_count": 112
        }
      ]
    },
    {
      "cell_type": "markdown",
      "metadata": {
        "id": "_7Sl6YjY7UNM"
      },
      "source": [
        "---\n",
        "#Optional question\n",
        "* Plot the 15 worst errors (high probability but wrong decision)\n",
        "---"
      ]
    },
    {
      "cell_type": "code",
      "metadata": {
        "colab": {
          "base_uri": "https://localhost:8080/",
          "height": 729
        },
        "id": "BbapNGB1zLNu",
        "outputId": "79f5f792-121b-48f3-81dc-b8717289bd27"
      },
      "source": [
        ""
      ],
      "execution_count": null,
      "outputs": [
        {
          "output_type": "display_data",
          "data": {
            "image/png": "[encoded data removed]",
            "text/plain": [
              "<Figure size 864x720 with 30 Axes>"
            ]
          },
          "metadata": {
            "needs_background": "light"
          }
        }
      ]
    },
    {
      "cell_type": "markdown",
      "metadata": {
        "id": "sukgva7wVkyf"
      },
      "source": [
        "In the next part we will create a convolutional model by using `Conv2D`.\n",
        "We also introduce a `Dropout` layer. "
      ]
    },
    {
      "cell_type": "code",
      "metadata": {
        "id": "KuzFRgeO1PBa"
      },
      "source": [
        "#For convolution we need (60000,28,28,1)\n",
        "train_images = x_train.reshape((60000, 28, 28, 1))\n",
        "test_images = x_test.reshape((10000,28,28,1))"
      ],
      "execution_count": null,
      "outputs": []
    },
    {
      "cell_type": "code",
      "metadata": {
        "id": "K-rM1dClnYhj"
      },
      "source": [
        "model2 = tf.keras.models.Sequential([\n",
        "  tf.keras.layers.Conv2D(32, 3, activation='relu',input_shape=(28, 28,1)),               \n",
        "  tf.keras.layers.Flatten(),\n",
        "  tf.keras.layers.Dense(128, activation='relu'),\n",
        "  tf.keras.layers.Dropout(0.2),\n",
        "  tf.keras.layers.Dense(10, activation='softmax')\n",
        "])\n",
        "\n",
        "model2.compile(optimizer='adam',\n",
        "              loss='sparse_categorical_crossentropy',\n",
        "              metrics=['accuracy'])"
      ],
      "execution_count": null,
      "outputs": []
    },
    {
      "cell_type": "code",
      "metadata": {
        "id": "AdujIeY_7caM",
        "colab": {
          "base_uri": "https://localhost:8080/"
        },
        "outputId": "012787e3-f2ea-436c-c012-0fbaebb84c8e"
      },
      "source": [
        "model2.summary()"
      ],
      "execution_count": null,
      "outputs": [
        {
          "output_type": "stream",
          "name": "stdout",
          "text": [
            "Model: \"sequential_11\"\n",
            "_________________________________________________________________\n",
            "Layer (type)                 Output Shape              Param #   \n",
            "=================================================================\n",
            "conv2d_14 (Conv2D)           (None, 26, 26, 32)        320       \n",
            "_________________________________________________________________\n",
            "flatten_11 (Flatten)         (None, 21632)             0         \n",
            "_________________________________________________________________\n",
            "dense_22 (Dense)             (None, 128)               2769024   \n",
            "_________________________________________________________________\n",
            "dropout_8 (Dropout)          (None, 128)               0         \n",
            "_________________________________________________________________\n",
            "dense_23 (Dense)             (None, 10)                1290      \n",
            "=================================================================\n",
            "Total params: 2,770,634\n",
            "Trainable params: 2,770,634\n",
            "Non-trainable params: 0\n",
            "_________________________________________________________________\n"
          ]
        }
      ]
    },
    {
      "cell_type": "markdown",
      "metadata": {
        "id": "MSwDlmiZWD9_"
      },
      "source": [
        "---\n",
        "#Question\n",
        "* Why are there so many parameters?\n",
        "\n",
        "En entrée nous passons de 28x28=784 valeurs à 26x26x32=21632\n",
        "Chaque image diminue de 1x1 pixels qui correspond au cadre de l'image perdu lors de la convolution (voir page 5 `Introduction to Deep Learning`). Et 32 correspond au nombre de kernel appliqués aux images.\n",
        "Ainsi nous avons bien plus d'entrées et par conséquent, bien plus de paramètres.\n",
        "\n",
        "* What will be the impact on the training?\n",
        "\n",
        "L'entrainnement va être plus coûteux mais plus efficace.\n",
        "\n",
        "---"
      ]
    },
    {
      "cell_type": "code",
      "metadata": {
        "id": "QdH0uks9fnkQ",
        "colab": {
          "base_uri": "https://localhost:8080/"
        },
        "outputId": "428b443b-85c7-4e72-c4e2-4f15d5d0612c"
      },
      "source": [
        "model2.fit(train_images, y_train, epochs=5)\n",
        "\n",
        "model2.evaluate(test_images,  y_test, verbose=2)"
      ],
      "execution_count": null,
      "outputs": [
        {
          "output_type": "stream",
          "name": "stdout",
          "text": [
            "Epoch 1/5\n",
            "1875/1875 [==============================] - 11s 5ms/step - loss: 0.1561 - accuracy: 0.9528\n",
            "Epoch 2/5\n",
            "1875/1875 [==============================] - 10s 5ms/step - loss: 0.0552 - accuracy: 0.9825\n",
            "Epoch 3/5\n",
            "1875/1875 [==============================] - 10s 5ms/step - loss: 0.0349 - accuracy: 0.9885\n",
            "Epoch 4/5\n",
            "1875/1875 [==============================] - 10s 5ms/step - loss: 0.0229 - accuracy: 0.9922\n",
            "Epoch 5/5\n",
            "1875/1875 [==============================] - 10s 5ms/step - loss: 0.0177 - accuracy: 0.9940\n",
            "313/313 - 1s - loss: 0.0537 - accuracy: 0.9847\n"
          ]
        },
        {
          "output_type": "execute_result",
          "data": {
            "text/plain": [
              "[0.05368081480264664, 0.9847000241279602]"
            ]
          },
          "metadata": {},
          "execution_count": 116
        }
      ]
    },
    {
      "cell_type": "markdown",
      "metadata": {
        "id": "n05ARthy4XHp"
      },
      "source": [
        "We introduce maxpooling to reduce the size of the model."
      ]
    },
    {
      "cell_type": "code",
      "metadata": {
        "id": "gQBL8ih_4Fxu"
      },
      "source": [
        "model3 = tf.keras.models.Sequential([\n",
        "  tf.keras.layers.Conv2D(32, 3, activation='relu',input_shape=(28, 28,1)),\n",
        "  tf.keras.layers.MaxPool2D((2,2)),\n",
        "  tf.keras.layers.MaxPool2D((2,2)),               \n",
        "  tf.keras.layers.Flatten(),\n",
        "  tf.keras.layers.Dense(128, activation='relu'),\n",
        "  tf.keras.layers.Dropout(0.2),\n",
        "  tf.keras.layers.Dense(10, activation='softmax')\n",
        "])\n",
        "\n",
        "model3.compile(optimizer='adam',\n",
        "              loss='sparse_categorical_crossentropy',\n",
        "              metrics=['accuracy'])"
      ],
      "execution_count": null,
      "outputs": []
    },
    {
      "cell_type": "code",
      "metadata": {
        "id": "NzbyOvDL7hPH",
        "colab": {
          "base_uri": "https://localhost:8080/"
        },
        "outputId": "d77e567f-119d-4e0f-a73b-e66674a0a720"
      },
      "source": [
        "model3.summary()"
      ],
      "execution_count": null,
      "outputs": [
        {
          "output_type": "stream",
          "name": "stdout",
          "text": [
            "Model: \"sequential_12\"\n",
            "_________________________________________________________________\n",
            "Layer (type)                 Output Shape              Param #   \n",
            "=================================================================\n",
            "conv2d_15 (Conv2D)           (None, 26, 26, 32)        320       \n",
            "_________________________________________________________________\n",
            "max_pooling2d_14 (MaxPooling (None, 13, 13, 32)        0         \n",
            "_________________________________________________________________\n",
            "max_pooling2d_15 (MaxPooling (None, 6, 6, 32)          0         \n",
            "_________________________________________________________________\n",
            "flatten_12 (Flatten)         (None, 1152)              0         \n",
            "_________________________________________________________________\n",
            "dense_24 (Dense)             (None, 128)               147584    \n",
            "_________________________________________________________________\n",
            "dropout_9 (Dropout)          (None, 128)               0         \n",
            "_________________________________________________________________\n",
            "dense_25 (Dense)             (None, 10)                1290      \n",
            "=================================================================\n",
            "Total params: 149,194\n",
            "Trainable params: 149,194\n",
            "Non-trainable params: 0\n",
            "_________________________________________________________________\n"
          ]
        }
      ]
    },
    {
      "cell_type": "code",
      "metadata": {
        "id": "D4sY0YNf4T9F",
        "colab": {
          "base_uri": "https://localhost:8080/"
        },
        "outputId": "64e578d8-ded3-42ab-8f2f-6fc713d1181d"
      },
      "source": [
        "model3.fit(train_images, y_train, epochs=5)\n",
        "\n",
        "model3.evaluate(test_images,  y_test, verbose=2)"
      ],
      "execution_count": null,
      "outputs": [
        {
          "output_type": "stream",
          "name": "stdout",
          "text": [
            "Epoch 1/5\n",
            "1875/1875 [==============================] - 8s 4ms/step - loss: 0.2142 - accuracy: 0.9355\n",
            "Epoch 2/5\n",
            "1875/1875 [==============================] - 8s 4ms/step - loss: 0.0770 - accuracy: 0.9764\n",
            "Epoch 3/5\n",
            "1875/1875 [==============================] - 8s 4ms/step - loss: 0.0570 - accuracy: 0.9821\n",
            "Epoch 4/5\n",
            "1875/1875 [==============================] - 8s 4ms/step - loss: 0.0453 - accuracy: 0.9855\n",
            "Epoch 5/5\n",
            "1875/1875 [==============================] - 8s 4ms/step - loss: 0.0390 - accuracy: 0.9877\n",
            "313/313 - 1s - loss: 0.0349 - accuracy: 0.9884\n"
          ]
        },
        {
          "output_type": "execute_result",
          "data": {
            "text/plain": [
              "[0.03490782156586647, 0.9883999824523926]"
            ]
          },
          "metadata": {},
          "execution_count": 119
        }
      ]
    },
    {
      "cell_type": "markdown",
      "metadata": {
        "id": "mqHunzq47wan"
      },
      "source": [
        "We can also try to stack convolutional and pooling layers"
      ]
    },
    {
      "cell_type": "code",
      "metadata": {
        "id": "X0C3FP5Y7vcQ"
      },
      "source": [
        "model4 = tf.keras.models.Sequential([\n",
        "  tf.keras.layers.Conv2D(32, 3, activation='relu',input_shape=(28, 28,1)),\n",
        "  tf.keras.layers.MaxPool2D((2,2)),\n",
        "  tf.keras.layers.Conv2D(32, 3, activation='relu'),\n",
        "  tf.keras.layers.MaxPool2D((2,2)),\n",
        "  tf.keras.layers.Conv2D(32, 3, activation='relu'),\n",
        "  tf.keras.layers.MaxPool2D((2,2)),                     \n",
        "  tf.keras.layers.Flatten(),\n",
        "  tf.keras.layers.Dense(128, activation='relu'),\n",
        "  tf.keras.layers.Dropout(0.2),\n",
        "  tf.keras.layers.Dense(10, activation='softmax')\n",
        "])\n",
        "\n",
        "model4.compile(optimizer='adam',\n",
        "              loss='sparse_categorical_crossentropy',\n",
        "              metrics=['accuracy'])"
      ],
      "execution_count": null,
      "outputs": []
    },
    {
      "cell_type": "code",
      "metadata": {
        "id": "E2To6vln8NR8",
        "colab": {
          "base_uri": "https://localhost:8080/"
        },
        "outputId": "c734a833-01c4-4527-b905-3e0021370b30"
      },
      "source": [
        "model4.summary()"
      ],
      "execution_count": null,
      "outputs": [
        {
          "output_type": "stream",
          "name": "stdout",
          "text": [
            "Model: \"sequential_13\"\n",
            "_________________________________________________________________\n",
            "Layer (type)                 Output Shape              Param #   \n",
            "=================================================================\n",
            "conv2d_16 (Conv2D)           (None, 26, 26, 32)        320       \n",
            "_________________________________________________________________\n",
            "max_pooling2d_16 (MaxPooling (None, 13, 13, 32)        0         \n",
            "_________________________________________________________________\n",
            "conv2d_17 (Conv2D)           (None, 11, 11, 32)        9248      \n",
            "_________________________________________________________________\n",
            "max_pooling2d_17 (MaxPooling (None, 5, 5, 32)          0         \n",
            "_________________________________________________________________\n",
            "conv2d_18 (Conv2D)           (None, 3, 3, 32)          9248      \n",
            "_________________________________________________________________\n",
            "max_pooling2d_18 (MaxPooling (None, 1, 1, 32)          0         \n",
            "_________________________________________________________________\n",
            "flatten_13 (Flatten)         (None, 32)                0         \n",
            "_________________________________________________________________\n",
            "dense_26 (Dense)             (None, 128)               4224      \n",
            "_________________________________________________________________\n",
            "dropout_10 (Dropout)         (None, 128)               0         \n",
            "_________________________________________________________________\n",
            "dense_27 (Dense)             (None, 10)                1290      \n",
            "=================================================================\n",
            "Total params: 24,330\n",
            "Trainable params: 24,330\n",
            "Non-trainable params: 0\n",
            "_________________________________________________________________\n"
          ]
        }
      ]
    },
    {
      "cell_type": "code",
      "metadata": {
        "id": "5S3hfK1y8O3F",
        "colab": {
          "base_uri": "https://localhost:8080/"
        },
        "outputId": "214f5a0f-0056-4dfc-cb26-9a00e0d31eb6"
      },
      "source": [
        "model4.fit(train_images, y_train, epochs=5)\n",
        "\n",
        "model4.evaluate(test_images,  y_test, verbose=2)"
      ],
      "execution_count": null,
      "outputs": [
        {
          "output_type": "stream",
          "name": "stdout",
          "text": [
            "Epoch 1/5\n",
            "1875/1875 [==============================] - 10s 5ms/step - loss: 0.2938 - accuracy: 0.9069\n",
            "Epoch 2/5\n",
            "1875/1875 [==============================] - 10s 5ms/step - loss: 0.1039 - accuracy: 0.9691\n",
            "Epoch 3/5\n",
            "1875/1875 [==============================] - 9s 5ms/step - loss: 0.0760 - accuracy: 0.9769\n",
            "Epoch 4/5\n",
            " 274/1875 [===>..........................] - ETA: 8s - loss: 0.0545 - accuracy: 0.9839"
          ]
        }
      ]
    },
    {
      "cell_type": "markdown",
      "metadata": {
        "id": "wXBspAwC9pGR"
      },
      "source": [
        "---\n",
        "#Questions\n",
        "* What do you observe? \n",
        "\n",
        "La précision est toujours présente malgrès le manque de paramètres.\n",
        "\n",
        "* Why similar performances can be obtained with a much smaller model?\n",
        "\n",
        "Les caractéristiques les plus importantes sont encore présentes malgré les pertes.\n",
        "\n",
        "---"
      ]
    },
    {
      "cell_type": "markdown",
      "metadata": {
        "id": "OKLZ5PvRY29U"
      },
      "source": [
        "One of the best model is the following one:"
      ]
    },
    {
      "cell_type": "code",
      "metadata": {
        "id": "AhGn3qAc8WGU"
      },
      "source": [
        "model5 = tf.keras.models.Sequential([\n",
        "  tf.keras.layers.Conv2D(32, 5, activation='relu',input_shape=(28, 28,1)),\n",
        "  tf.keras.layers.MaxPool2D((2,2)),\n",
        "  tf.keras.layers.Conv2D(32, 5, activation='relu'),\n",
        "  tf.keras.layers.MaxPool2D((2,2)),                    \n",
        "  tf.keras.layers.Flatten(),\n",
        "  tf.keras.layers.Dense(128, activation='relu'),\n",
        "  tf.keras.layers.Dropout(0.2),\n",
        "  tf.keras.layers.Dense(10, activation='softmax')\n",
        "])\n",
        "\n",
        "model5.compile(optimizer='adam',\n",
        "              loss='sparse_categorical_crossentropy',\n",
        "              metrics=['accuracy'])"
      ],
      "execution_count": null,
      "outputs": []
    },
    {
      "cell_type": "code",
      "metadata": {
        "id": "Max2xQ9eRqI4"
      },
      "source": [
        "model5.summary()"
      ],
      "execution_count": null,
      "outputs": []
    },
    {
      "cell_type": "code",
      "metadata": {
        "id": "9jo6LrDYRsie",
        "colab": {
          "base_uri": "https://localhost:8080/"
        },
        "outputId": "fdda3654-5908-4204-c04a-c180fe9fdc88"
      },
      "source": [
        "model5.fit(train_images, y_train, epochs=5)\n",
        "\n",
        "model5.evaluate(test_images,  y_test, verbose=2)"
      ],
      "execution_count": null,
      "outputs": [
        {
          "output_type": "stream",
          "name": "stdout",
          "text": [
            "Epoch 1/5\n",
            "1875/1875 [==============================] - 9s 5ms/step - loss: 0.1581 - accuracy: 0.9508\n",
            "Epoch 2/5\n",
            "1875/1875 [==============================] - 9s 5ms/step - loss: 0.0501 - accuracy: 0.9849\n",
            "Epoch 3/5\n",
            "1875/1875 [==============================] - 9s 5ms/step - loss: 0.0362 - accuracy: 0.9885\n",
            "Epoch 4/5\n",
            "1875/1875 [==============================] - 9s 5ms/step - loss: 0.0274 - accuracy: 0.9912\n",
            "Epoch 5/5\n",
            "1875/1875 [==============================] - 9s 5ms/step - loss: 0.0233 - accuracy: 0.9923\n",
            "313/313 - 1s - loss: 0.0218 - accuracy: 0.9927\n"
          ]
        },
        {
          "output_type": "execute_result",
          "data": {
            "text/plain": [
              "[0.021773410961031914, 0.9926999807357788]"
            ]
          },
          "metadata": {},
          "execution_count": 92
        }
      ]
    },
    {
      "cell_type": "markdown",
      "metadata": {
        "id": "c7VbrVM8IdkB"
      },
      "source": [
        "If you have free time, try to build your own model, change some parmeters, continue to check the content of the dataset, etc.\n",
        "\n"
      ]
    }
  ]
}